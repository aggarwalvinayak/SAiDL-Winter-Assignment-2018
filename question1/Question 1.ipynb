{
 "cells": [
  {
   "cell_type": "code",
   "execution_count": 1,
   "metadata": {
    "collapsed": true
   },
   "outputs": [],
   "source": [
    "import numpy as np\n",
    "import pandas as pd\n",
    "import csv"
   ]
  },
  {
   "cell_type": "code",
   "execution_count": 2,
   "metadata": {},
   "outputs": [
    {
     "name": "stdout",
     "output_type": "stream",
     "text": [
      "[[0 0 0 0 0 0 0 0]\n",
      " [0 0 0 1 0 0 1 1]\n",
      " [0 0 1 0 0 1 0 2]\n",
      " [0 0 1 1 0 1 1 3]\n",
      " [0 1 0 0 0 0 1 1]\n",
      " [0 1 0 1 0 0 0 0]\n",
      " [0 1 1 0 0 1 1 3]\n",
      " [0 1 1 1 0 1 0 2]\n",
      " [1 0 0 0 0 1 0 2]\n",
      " [1 0 0 1 0 1 1 3]\n",
      " [1 0 1 0 0 0 0 0]\n",
      " [1 0 1 1 0 0 1 1]\n",
      " [1 1 0 0 0 1 1 3]\n",
      " [1 1 0 1 0 1 0 2]\n",
      " [1 1 1 0 0 0 1 1]\n",
      " [1 1 1 1 0 0 0 0]\n",
      " [0 0 0 0 1 1 1 3]\n",
      " [0 0 0 1 1 1 0 2]\n",
      " [0 0 1 0 1 0 1 1]\n",
      " [0 0 1 1 1 0 0 0]\n",
      " [0 1 0 0 1 0 1 1]\n",
      " [0 1 0 1 1 1 1 3]\n",
      " [0 1 1 0 1 0 0 0]\n",
      " [0 1 1 1 1 1 0 2]\n",
      " [1 0 0 0 1 0 1 1]\n",
      " [1 0 0 1 1 0 0 0]\n",
      " [1 0 1 0 1 1 1 3]\n",
      " [1 0 1 1 1 1 0 2]\n",
      " [1 1 0 0 1 0 0 0]\n",
      " [1 1 0 1 1 0 1 1]\n",
      " [1 1 1 0 1 1 0 2]\n",
      " [1 1 1 1 1 1 1 3]]\n"
     ]
    }
   ],
   "source": [
    "df=pd.read_csv(\"train_1.csv\",header=None)\n",
    "data=df.values\n",
    "print(data)"
   ]
  },
  {
   "cell_type": "code",
   "execution_count": 26,
   "metadata": {},
   "outputs": [
    {
     "name": "stdout",
     "output_type": "stream",
     "text": [
      "(5, 32) (2, 32) 32\n"
     ]
    }
   ],
   "source": [
    "X_train=data[:,0:5].T\n",
    "Y_train=data[:,5:7].T\n",
    "shape_X = X_train.shape\n",
    "shape_Y = Y_train.shape\n",
    "m = X_train.shape[1]\n",
    "print(shape_X,shape_Y,m)"
   ]
  },
  {
   "cell_type": "code",
   "execution_count": 27,
   "metadata": {
    "collapsed": true
   },
   "outputs": [],
   "source": [
    "def sigmoid(z):\n",
    "    s = 1 / (1 + np.exp(-z))    \n",
    "    return s"
   ]
  },
  {
   "cell_type": "code",
   "execution_count": 28,
   "metadata": {
    "collapsed": true
   },
   "outputs": [],
   "source": [
    "def forward_propagation(X, parameters):\n",
    "    W1 = parameters[\"W1\"]\n",
    "    b1 = parameters[\"b1\"]\n",
    "    W2 = parameters[\"W2\"]\n",
    "    b2 = parameters[\"b2\"]\n",
    "\n",
    "    Z1 = np.dot(W1,X)+b1\n",
    "    A1 = np.tanh(Z1)\n",
    "    Z2 = np.dot(W2,A1)+b2\n",
    "    A2 = sigmoid(Z2)\n",
    "    \n",
    "    assert(A2.shape == (2, X.shape[1]))\n",
    "    \n",
    "    cache = {\"Z1\": Z1,\n",
    "             \"A1\": A1,\n",
    "             \"Z2\": Z2,\n",
    "             \"A2\": A2}\n",
    "    \n",
    "    return A2, cache"
   ]
  },
  {
   "cell_type": "code",
   "execution_count": 29,
   "metadata": {
    "collapsed": true
   },
   "outputs": [],
   "source": [
    "def compute_cost(A2, Y, parameters):\n",
    "\n",
    "    #m = Y.shape[1] \n",
    "    \n",
    "    logprobs = np.multiply(Y,np.log(A2))+np.multiply(1-Y,np.log(1-A2))\n",
    "    cost = (-1/m)*np.sum(logprobs)\n",
    "    \n",
    "    cost = np.squeeze(cost)  \n",
    "    \n",
    "    \n",
    "    \n",
    "    assert(isinstance(cost, float))\n",
    "    \n",
    "    return cost"
   ]
  },
  {
   "cell_type": "code",
   "execution_count": 30,
   "metadata": {
    "collapsed": true
   },
   "outputs": [],
   "source": [
    "def backward_propagation(parameters, cache, X, Y):\n",
    "\n",
    "    m = X.shape[1]\n",
    "\n",
    "    W1 = parameters[\"W1\"]\n",
    "    W2 = parameters[\"W2\"]\n",
    "\n",
    "    A1 = cache['A1']\n",
    "    A2 = cache['A2']\n",
    "\n",
    "    dZ2 = A2-Y\n",
    "    dW2 = 1/m*np.dot(dZ2,A1.T)\n",
    "    db2 = 1/m*np.sum(dZ2,axis=1,keepdims=True)\n",
    "    dZ1 = np.dot(W2.T,dZ2)*(1-np.power(A1,2))\n",
    "    dW1 = 1/m*np.dot(dZ1,X.T)\n",
    "    db1 = 1/m*np.sum(dZ1,axis=1,keepdims=True)\n",
    "    \n",
    "    grads = {\"dW1\": dW1,\n",
    "             \"db1\": db1,\n",
    "             \"dW2\": dW2,\n",
    "             \"db2\": db2}\n",
    "    \n",
    "    return grads"
   ]
  },
  {
   "cell_type": "code",
   "execution_count": 34,
   "metadata": {
    "collapsed": true
   },
   "outputs": [],
   "source": [
    "def update_parameters(parameters, grads, learning_rate = 1):\n",
    "\n",
    "    W1 = parameters[\"W1\"]\n",
    "    b1 = parameters[\"b1\"]\n",
    "    W2 = parameters[\"W2\"]\n",
    "    b2 = parameters[\"b2\"]\n",
    "\n",
    "    dW1 = grads['dW1']\n",
    "    db1 = grads['db1']\n",
    "    dW2 = grads['dW2']\n",
    "    db2 = grads['db2']\n",
    "\n",
    "    W1 -= learning_rate*dW1\n",
    "    b1 -= learning_rate*db1\n",
    "    W2 -= learning_rate*dW2\n",
    "    b2 -= learning_rate*db2\n",
    "\n",
    "    parameters = {\"W1\": W1,\n",
    "                  \"b1\": b1,\n",
    "                  \"W2\": W2,\n",
    "                  \"b2\": b2}\n",
    "    \n",
    "    return parameters"
   ]
  },
  {
   "cell_type": "code",
   "execution_count": 35,
   "metadata": {
    "collapsed": true
   },
   "outputs": [],
   "source": [
    "def model(X,Y,iterations=100000):\n",
    "    \n",
    "    n_x=5\n",
    "    n_h=10\n",
    "    n_y=2\n",
    "    \n",
    "    W1 = np.random.randn(n_h,n_x)*0.01\n",
    "    b1 = np.zeros((n_h,1))\n",
    "    W2 = np.random.randn(n_y,n_h)*0.01\n",
    "    b2 = np.zeros((n_y,1))\n",
    "    #print(W1,W2)\n",
    "    parameters = {\"W1\": W1,\"b1\": b1,\"W2\": W2,\"b2\": b2}\n",
    "\n",
    "    for i in range(0, iterations):\n",
    "        A2, cache = forward_propagation(X,parameters)\n",
    "        \n",
    "        cost = compute_cost(A2,Y,parameters)\n",
    " \n",
    "        grads = backward_propagation(parameters,cache,X,Y)\n",
    " \n",
    "        parameters = update_parameters(parameters, grads)\n",
    "        if i%10000==0:\n",
    "            print(cost)\n",
    "\n",
    "    return parameters"
   ]
  },
  {
   "cell_type": "code",
   "execution_count": 36,
   "metadata": {},
   "outputs": [
    {
     "name": "stdout",
     "output_type": "stream",
     "text": [
      "1.38630020574\n",
      "0.000810613969062\n",
      "0.000401141585055\n",
      "0.000266995202006\n",
      "0.00020017626613\n",
      "0.000160118550404\n",
      "0.000133406642858\n",
      "0.000114312406395\n",
      "9.99776429025e-05\n",
      "8.88164403663e-05\n",
      "{'W1': array([[-5.74464761,  0.23376755, -0.17559342, -4.93337487,  3.68997696],\n",
      "       [-2.44792862,  0.58921183,  3.17871164, -0.38841339,  1.89605075],\n",
      "       [-4.57811784, -2.04154332,  6.0305478 ,  0.26995798,  4.59936261],\n",
      "       [-2.09511341, -0.15262131,  2.16324892,  0.96810645,  2.57758414],\n",
      "       [-0.12593803,  3.93068358, -0.11579841,  4.28491175, -4.19013922],\n",
      "       [ 2.88484177,  0.84927627, -3.4203899 ,  0.50314363,  3.56176317],\n",
      "       [ 0.27003609, -2.83618354, -0.47925289,  2.50978383, -4.2112401 ],\n",
      "       [-1.77729184,  0.33293607,  2.07378859,  0.6238558 ,  2.55403615],\n",
      "       [-0.09376878, -3.82482508,  0.17056932, -3.10108649, -2.68383616],\n",
      "       [ 1.43518128,  3.78935729, -1.13691966, -4.12014614,  1.74826945]]), 'b1': array([[-1.4433611 ],\n",
      "       [-3.95577543],\n",
      "       [-2.44634982],\n",
      "       [ 0.57876635],\n",
      "       [-1.86778792],\n",
      "       [-1.78536544],\n",
      "       [ 1.89263639],\n",
      "       [ 0.49250903],\n",
      "       [ 4.38589551],\n",
      "       [ 2.54465565]]), 'W2': array([[ -4.55187223,  -2.79117714,  15.55242877,  -4.73166802,\n",
      "          5.05108162,   6.58892644,   3.22913444,  -4.72733841,\n",
      "          3.1136849 ,   4.7734929 ],\n",
      "       [  8.81930442,  -7.15899228,   0.66874796,   2.47509321,\n",
      "          8.84352469,   4.34828452,  -7.42585604,   1.43261011,\n",
      "         10.09875552,  -4.00447569]]), 'b2': array([[-1.09355796],\n",
      "       [ 1.27727342]])}\n"
     ]
    }
   ],
   "source": [
    "parameters=model(X_train,Y_train)\n",
    "print(parameters)"
   ]
  },
  {
   "cell_type": "code",
   "execution_count": 39,
   "metadata": {},
   "outputs": [
    {
     "name": "stdout",
     "output_type": "stream",
     "text": [
      "[[ 0.  0.]\n",
      " [ 0.  1.]\n",
      " [ 1.  0.]\n",
      " [ 1.  1.]\n",
      " [ 0.  1.]\n",
      " [ 0.  0.]\n",
      " [ 1.  1.]\n",
      " [ 1.  0.]\n",
      " [ 1.  0.]\n",
      " [ 1.  1.]\n",
      " [ 0.  0.]\n",
      " [ 0.  1.]\n",
      " [ 1.  1.]\n",
      " [ 1.  0.]\n",
      " [ 0.  1.]\n",
      " [ 0.  0.]\n",
      " [ 1.  1.]\n",
      " [ 1.  0.]\n",
      " [ 0.  1.]\n",
      " [ 0.  0.]\n",
      " [ 0.  1.]\n",
      " [ 1.  1.]\n",
      " [ 0.  0.]\n",
      " [ 1.  0.]\n",
      " [ 0.  1.]\n",
      " [ 0.  0.]\n",
      " [ 1.  1.]\n",
      " [ 1.  0.]\n",
      " [ 0.  0.]\n",
      " [ 0.  1.]\n",
      " [ 1.  0.]\n",
      " [ 1.  1.]]\n"
     ]
    }
   ],
   "source": [
    "def predict(parameters, X):\n",
    "\n",
    "    A2, cache = forward_propagation(X,parameters)\n",
    "    predictions = np.round(A2)\n",
    "    \n",
    "    return predictions.T\n",
    "\n",
    "print(predict(parameters,X_train))"
   ]
  },
  {
   "cell_type": "code",
   "execution_count": null,
   "metadata": {
    "collapsed": true
   },
   "outputs": [],
   "source": []
  }
 ],
 "metadata": {
  "kernelspec": {
   "display_name": "Python 3",
   "language": "python",
   "name": "python3"
  },
  "language_info": {
   "codemirror_mode": {
    "name": "ipython",
    "version": 3
   },
   "file_extension": ".py",
   "mimetype": "text/x-python",
   "name": "python",
   "nbconvert_exporter": "python",
   "pygments_lexer": "ipython3",
   "version": "3.6.3"
  }
 },
 "nbformat": 4,
 "nbformat_minor": 2
}
